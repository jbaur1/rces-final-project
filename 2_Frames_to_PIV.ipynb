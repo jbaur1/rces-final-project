{
 "cells": [
  {
   "cell_type": "markdown",
   "metadata": {},
   "source": [
    "# Video Frames (Images) to Velocity Fields with OpenPIV \n",
    "### Particle Image Velocimetry "
   ]
  },
  {
   "cell_type": "code",
   "execution_count": null,
   "metadata": {},
   "outputs": [],
   "source": [
    "from openpiv import tools, process, validation, filters, scaling \n",
    "\n",
    "import numpy as np\n",
    "import matplotlib.pyplot as plt\n",
    "%matplotlib inline\n",
    "import os\n",
    "import imageio\n",
    "\n",
    "import pandas as pd\n",
    "import xarray as xr"
   ]
  },
  {
   "cell_type": "code",
   "execution_count": null,
   "metadata": {},
   "outputs": [],
   "source": [
    "import openpiv.tools\n",
    "import openpiv.process \n",
    "import openpiv.scaling \n",
    "import openpiv.validation \n",
    "import openpiv.filters\n",
    "import glob"
   ]
  },
  {
   "cell_type": "markdown",
   "metadata": {},
   "source": [
    "# Batch Processing"
   ]
  },
  {
   "cell_type": "markdown",
   "metadata": {},
   "source": [
    "### check if pictures are in order, if not, sort them"
   ]
  },
  {
   "cell_type": "code",
   "execution_count": null,
   "metadata": {},
   "outputs": [],
   "source": [
    "filepath = '/Users/.../OpenPIV/Frames/0726/Flight10_1440_Vpt4-5-6-5PostTypeA/DJI_0003_20180726_1440-Vpt6postTypeA_Frames'\n",
    "\n",
    "\n",
    "files = glob.glob(filepath + \"/*.jpg\")\n",
    "files"
   ]
  },
  {
   "cell_type": "code",
   "execution_count": null,
   "metadata": {},
   "outputs": [],
   "source": [
    "def Frame_sort(x):\n",
    "    return(x[-7:-4])\n",
    "\n",
    "files_S =sorted(files, key = Frame_sort)\n",
    "files_S"
   ]
  },
  {
   "cell_type": "markdown",
   "metadata": {},
   "source": [
    "### Extract frame 0 and make a list of frames (will use this to save files based off of frame 0)"
   ]
  },
  {
   "cell_type": "code",
   "execution_count": null,
   "metadata": {},
   "outputs": [],
   "source": [
    "frame0= files_S[0]\n",
    "frame0 = int(frame0[-7:-4])\n",
    "frame0"
   ]
  },
  {
   "cell_type": "code",
   "execution_count": null,
   "metadata": {},
   "outputs": [],
   "source": [
    "FrameN = []\n",
    "for i in range(len(files)):\n",
    "    F1 = str(frame0 +i) #FOR ONE SECOND INTERVALS \n",
    "    FrameN.append(F1)\n",
    "    i = i+1\n",
    "FrameN"
   ]
  },
  {
   "cell_type": "code",
   "execution_count": null,
   "metadata": {},
   "outputs": [],
   "source": [
    "#Change to desired output directory \n",
    "savedir = '/Users/Jasper/Volc_Research/OpenPIV/Site4/0726/F10/'"
   ]
  },
  {
   "cell_type": "code",
   "execution_count": null,
   "metadata": {},
   "outputs": [],
   "source": [
    "#List is what the output file names will look like\n",
    "i=0\n",
    "for i in range(len(files_S)-1):\n",
    "    print(savedir + 'Vel_Field_' + \"%03d\" %  i + '-' + \"%03d\" % (i+1) + '.csv' ) "
   ]
  },
  {
   "cell_type": "markdown",
   "metadata": {},
   "source": [
    "## Batch Process"
   ]
  },
  {
   "cell_type": "code",
   "execution_count": null,
   "metadata": {},
   "outputs": [],
   "source": [
    "i=0\n",
    "for i in range(len(files_S)-1):\n",
    "    frame_a  = tools.imread(files_S[i])\n",
    "    frame_b  = tools.imread(files_S[i+1])\n",
    "    frame_a = (frame_a).astype(np.int32)\n",
    "    frame_b = (frame_b).astype(np.int32)\n",
    "\n",
    "    u, v, sig2noise = process.extended_search_area_piv( frame_a, frame_b, \\\n",
    "        window_size=64, overlap=32, dt=1, search_area_size=128, sig2noise_method='peak2peak' )\n",
    "    x, y = process.get_coordinates( image_size=frame_a.shape, window_size=64, overlap=32 )\n",
    "    u, v, mask = validation.sig2noise_val( u, v, sig2noise, threshold = 1.2 )\n",
    "    u, v, mask = validation.global_val( u, v, (-1000, 2000), (-1000, 1000) )\n",
    "    u, v = filters.replace_outliers( u, v, method='localmean', max_iter=10, kernel_size=2)\n",
    "    x, y, u, v = scaling.uniform(x, y, u, v, scaling_factor = 1)\n",
    "    tools.save(x, y, u, v, mask, savedir + 'Vel_Field_' + \"%03d\" %  i + '-' + \"%03d\" % (i+1) + '.csv')\n",
    "    #tools.display_vector_field(savedir + 'Vel_Field_' + FrameN[i]+ '-' + FrameN[i+1] + '.csv', scale=400, width=0.001)\n",
    "    i =i+1\n",
    "    "
   ]
  },
  {
   "cell_type": "code",
   "execution_count": null,
   "metadata": {},
   "outputs": [],
   "source": [
    "#does this look reasonable?\n",
    "tools.display_vector_field(savedir + 'Vel_Field_000-001.csv' , scale=400, width=0.001)"
   ]
  },
  {
   "cell_type": "code",
   "execution_count": null,
   "metadata": {},
   "outputs": [],
   "source": [
    "fig,ax = plt.subplots(figsize=(20,20))\n",
    "tools.display_vector_field(V_Fields[40], scale=400, width=0.001,ax=ax,on_img=True,image_name=files_S[10])"
   ]
  },
  {
   "cell_type": "code",
   "execution_count": null,
   "metadata": {},
   "outputs": [],
   "source": [
    "#visual representation of what is being done (subtracting out mean of 'still area')\n",
    "plt.plot(x[0,:],v[35,:].T)\n",
    "plt.plot(x[0,:],np.ones_like(x[0,:])*3.5,'--')\n",
    "plt.show()"
   ]
  },
  {
   "cell_type": "markdown",
   "metadata": {},
   "source": [
    "### Load in V_Fields"
   ]
  },
  {
   "cell_type": "code",
   "execution_count": null,
   "metadata": {},
   "outputs": [],
   "source": [
    "V_Fields = glob.glob(savedir + \"*.csv\") #This is the directory witht the CSV files\n",
    "\n",
    "\n",
    "dfC = []\n",
    "i=0\n",
    "for i in range(len(V_Fields)):\n",
    "    dfi = pd.read_csv(V_Fields[i], sep = '\\t', header=None )\n",
    "    dfi.columns = ('x','y','u', 'v', 'mask')\n",
    "    #dfi.index.rename(['x','y'], inplace=True)\n",
    "    dfi = dfi[~dfi.index.duplicated()]\n",
    "    #dfi =dfi.to_xarray()\n",
    "    file1 = V_Fields[i]\n",
    "    sec = file1[len(file1)-11: len(file1)-4] # may need to be adjusted depending on file name length\n",
    "    dfi['time']=sec\n",
    "    dfC.append(dfi)\n",
    "    i=i+1"
   ]
  },
  {
   "cell_type": "code",
   "execution_count": null,
   "metadata": {},
   "outputs": [],
   "source": []
  },
  {
   "cell_type": "markdown",
   "metadata": {},
   "source": [
    "### Choose 'still' regions for images \n",
    "Using the plotted Displayed Vector above you can get a pretty good idea of what is still"
   ]
  },
  {
   "cell_type": "code",
   "execution_count": null,
   "metadata": {},
   "outputs": [],
   "source": [
    "#Overlap is important here, x and y are intervals of overlap size\n",
    "\n",
    "def still(s1,s2,overlap):\n",
    "    S1 = int(s1/overlap)*overlap\n",
    "    S2 = int(s2/overlap)*overlap\n",
    "    if S1<=overlap:\n",
    "        S1 = S1 +overlap\n",
    "    print(S1 , \"-\", S2)\n",
    "    \n",
    "    \n",
    "def still_N(s1,s2,overlap):\n",
    "    S1 = int(s1/overlap)-1\n",
    "    S2 = int(s2/overlap)-1\n",
    "    if S1<=overlap:\n",
    "        S1 = 0\n",
    "    print(S1 , \"-\", S2)"
   ]
  },
  {
   "cell_type": "code",
   "execution_count": null,
   "metadata": {},
   "outputs": [],
   "source": [
    "#Visually the 'still' area for the image above can be aproxiamated by \n",
    "#x = 0-500, 3712-3840  y = 0 - 2160\n",
    "print(\"X still ranges: \")\n",
    "print(still(0,200,32), still(3700,3840,32))\n",
    "\n",
    "print(\"Y still ranges: \")\n",
    "print(still(0,2160,32))"
   ]
  },
  {
   "cell_type": "code",
   "execution_count": null,
   "metadata": {},
   "outputs": [],
   "source": [
    "print(\"X still ranges: \")\n",
    "print(still_N(0,192,32), still_N(3700,3840,32))\n",
    "\n",
    "print(\"Y still ranges: \")\n",
    "print(still_N(0,2160,32))\n",
    "\n",
    "#Need to fix that function, but \n",
    "# X range: 32 - 480, 3680 - 3808;\n",
    "# Y range: 32 - 2112"
   ]
  },
  {
   "cell_type": "markdown",
   "metadata": {},
   "source": [
    "### Compute V mean and U mean for still regions"
   ]
  },
  {
   "cell_type": "code",
   "execution_count": null,
   "metadata": {},
   "outputs": [],
   "source": [
    "vmean1 = dfC[40].loc[0:3].v.mean()\n",
    "vmean2 = dfC[40].loc[114:119].v.mean() # in this case I choose 2 regions, but you can choose from 1 or more\n",
    "vmean = (vmean1+vmean2)/2\n",
    "vmean "
   ]
  },
  {
   "cell_type": "code",
   "execution_count": null,
   "metadata": {},
   "outputs": [],
   "source": [
    "umean1 = dfC[40].loc[0:3].u.mean()\n",
    "umean2 = dfC[40].loc[114:119].u.mean() # in this case I choose 2 regions, but you can choose from 1 or more\n",
    "umean = (umean1+umean2)/2\n",
    "umean"
   ]
  },
  {
   "cell_type": "code",
   "execution_count": null,
   "metadata": {},
   "outputs": [],
   "source": [
    "vmean1"
   ]
  },
  {
   "cell_type": "markdown",
   "metadata": {},
   "source": [
    "### Save New Results "
   ]
  },
  {
   "cell_type": "code",
   "execution_count": null,
   "metadata": {},
   "outputs": [],
   "source": [
    "tools.save(x, y, u-umean1 -2, v-vmean1+1, mask, V_Fields[40] )\n",
    "fig,ax = plt.subplots(figsize=(20,20))\n",
    "tools.display_vector_field(V_Fields[40], scale=400, width=0.001,ax=ax,on_img=True,\n",
    "                           image_name='/Users/Jasper/Volc_Research/OpenPIV/F10_Clip/f10_CLIP/DJI_0003_20180726_1440-Vpt6postTypeA-Copy1.MOV_115.jpg')"
   ]
  },
  {
   "cell_type": "markdown",
   "metadata": {},
   "source": [
    "# Now Batch Process the corrected fields"
   ]
  },
  {
   "cell_type": "markdown",
   "metadata": {},
   "source": [
    "For Site 4, this is the approximate still region"
   ]
  },
  {
   "cell_type": "code",
   "execution_count": null,
   "metadata": {},
   "outputs": [],
   "source": [
    "\n",
    "V_Fields = glob.glob(savedir + \"*.csv\") #This is the directory with the CSV files\n",
    "\n",
    "\n",
    "dfC = []\n",
    "i=0\n",
    "for i in range(len(V_Fields)):\n",
    "    dfi = pd.read_csv(V_Fields[i], sep = '\\t', header=None )\n",
    "    dfi.columns = ('x','y','u', 'v', 'mask')\n",
    "    #dfi.index.rename(['x','y'], inplace=True)\n",
    "    dfi = dfi[~dfi.index.duplicated()]\n",
    "    #dfi =dfi.to_xarray()\n",
    "    file1 = V_Fields[i]\n",
    "    sec = file1[len(file1)-11: len(file1)-4] # may need to be adjusted depending on file name length\n",
    "    dfi['time']=sec\n",
    "    dfC.append(dfi)\n",
    "    i=i+1"
   ]
  },
  {
   "cell_type": "code",
   "execution_count": null,
   "metadata": {},
   "outputs": [],
   "source": [
    "print(\"X still ranges: \")\n",
    "print(still_N(0,500,32), still_N(3700,3840,32))\n",
    "\n",
    "print(\"Y still ranges: \")\n",
    "print(still_N(0,2160,32))"
   ]
  },
  {
   "cell_type": "code",
   "execution_count": null,
   "metadata": {},
   "outputs": [],
   "source": [
    "#Display incorrected vector fields\n",
    "\n",
    "V_Fields = glob.glob('/Users/Jasper/Volc_Research/OpenPIV/Subtract_test/' + \"*.csv\")\n",
    "\n",
    "i = 0\n",
    "\n",
    "\n",
    "for i in range(len(V_Fields)):\n",
    "\n",
    "    tools.display_vector_field(V_Fields[i], scale=400, width=0.001)\n",
    "     \n",
    "    i+i+1"
   ]
  },
  {
   "cell_type": "code",
   "execution_count": null,
   "metadata": {},
   "outputs": [],
   "source": []
  },
  {
   "cell_type": "code",
   "execution_count": null,
   "metadata": {},
   "outputs": [],
   "source": [
    "#new save dir for corrected\n",
    "#savedir2 = '/Users/Jasper/Volc_Research/OpenPIV/Site4/0726/F09_Cor/'\n",
    "#V_Fields_Cor = glob.glob(savedir2 + \"*.csv\") #This is the directory with the CSV files\n",
    "\n",
    "\n",
    "i = 0\n",
    "\n",
    "for i in range(len(V_Fields)):\n",
    "   \n",
    "    vmean1 = dfC[i].loc[0:14].v.mean()\n",
    "    vmean2 = dfC[i].loc[114:119].v.mean() # in this case I choose 2 regions, but you can choose from 1 or more\n",
    "    vmean = (vmean1+vmean2)/2\n",
    "    \n",
    "    umean1 = dfC[i].loc[0:14].u.mean()\n",
    "    umean2 = dfC[i].loc[114:119].u.mean() # in this case I choose 2 regions, but you can choose from 1 or more\n",
    "    umean = (umean1+umean2)/2\n",
    "    \n",
    "    tools.save(x, y, u-umean, v-vmean, mask, V_Fields[i] +'C.csv')\n",
    "    tools.display_vector_field(V_Fields[i], scale=400, width=0.001)\n",
    "     \n",
    "    i+i+1"
   ]
  },
  {
   "cell_type": "markdown",
   "metadata": {},
   "source": [
    "### Check to see if results are Reasonable\n",
    "still regions should have very little to no velocity"
   ]
  },
  {
   "cell_type": "code",
   "execution_count": null,
   "metadata": {},
   "outputs": [],
   "source": [
    "tools.display_vector_field(V_Fields[119], scale=400, width=0.001)"
   ]
  },
  {
   "cell_type": "code",
   "execution_count": null,
   "metadata": {},
   "outputs": [],
   "source": [
    "i=0\n",
    "while(i<=len(files_S)):\n",
    "    fig,ax = plt.subplots(1,2,figsize=(12,10))\n",
    "    ax[0].imshow(frame_a,cmap=plt.cm.magma)\n",
    "    ax[1].imshow(frame_b,cmap=plt.cm.magma)\n",
    "    i = i+1"
   ]
  },
  {
   "cell_type": "code",
   "execution_count": null,
   "metadata": {},
   "outputs": [],
   "source": []
  }
 ],
 "metadata": {
  "kernelspec": {
   "display_name": "Python 3",
   "language": "python",
   "name": "python3"
  },
  "language_info": {
   "codemirror_mode": {
    "name": "ipython",
    "version": 3
   },
   "file_extension": ".py",
   "mimetype": "text/x-python",
   "name": "python",
   "nbconvert_exporter": "python",
   "pygments_lexer": "ipython3",
   "version": "3.8.3"
  }
 },
 "nbformat": 4,
 "nbformat_minor": 4
}
